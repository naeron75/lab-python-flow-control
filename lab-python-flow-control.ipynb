{
 "cells": [
  {
   "cell_type": "markdown",
   "id": "d3bfc191-8885-42ee-b0a0-bbab867c6f9f",
   "metadata": {
    "tags": []
   },
   "source": [
    "# Lab | Flow Control"
   ]
  },
  {
   "cell_type": "markdown",
   "id": "3851fcd1-cf98-4653-9c89-e003b7ec9400",
   "metadata": {},
   "source": [
    "## Exercise: Managing Customer Orders Optimized\n",
    "\n",
    "In the last lab, you were starting an online store that sells various products. To ensure smooth operations, you developed a program that manages customer orders and inventory.\n",
    "\n",
    "You did so without using flow control. Let's go a step further and improve this code.\n",
    "\n",
    "Follow the steps below to complete the exercise:\n",
    "\n",
    "1. Look at your code from the lab data structures, and improve repeated code with loops.\n",
    "\n",
    "2. Instead of asking the user to input the name of three products that a customer wants to order, do the following:\n",
    "    \n",
    "    a. Prompt the user to enter the name of a product that a customer wants to order.\n",
    "    \n",
    "    b. Add the product name to the \"customer_orders\" set.\n",
    "    \n",
    "    c. Ask the user if they want to add another product (yes/no).\n",
    "    \n",
    "    d. Continue the loop until the user does not want to add another product.\n",
    "\n",
    "3. Instead of updating the inventory by subtracting 1 from the quantity of each product, only do it for  the products that were ordered (those in \"customer_orders\")."
   ]
  },
  {
   "cell_type": "code",
   "execution_count": 3,
   "id": "284ddc34-a87d-4781-81bc-f721c537b85f",
   "metadata": {},
   "outputs": [
    {
     "name": "stdin",
     "output_type": "stream",
     "text": [
      "How many t-shirt in inventory ? 2\n",
      "How many mug in inventory ? 2\n",
      "How many hat in inventory ? 2\n",
      "How many book in inventory ? 2\n",
      "How many keychain in inventory ? 2\n"
     ]
    },
    {
     "name": "stdout",
     "output_type": "stream",
     "text": [
      "{'t-shirt': 2, 'mug': 2, 'hat': 2, 'book': 2, 'keychain': 2}\n"
     ]
    },
    {
     "name": "stdin",
     "output_type": "stream",
     "text": [
      "Choose 3 products you'd like to order and write them mug book hat\n"
     ]
    },
    {
     "name": "stdout",
     "output_type": "stream",
     "text": [
      "{'mug', 'book', 'hat'}\n",
      "10\n",
      "Order statistics : \n",
      " Total Products Ordered: 3 \n",
      " Percentage of Products Ordered : 30.0 \n",
      "\n",
      "t-shirt :  2\n",
      "mug :  1\n",
      "hat :  1\n",
      "book :  1\n",
      "keychain :  2\n"
     ]
    }
   ],
   "source": [
    "# 1.\n",
    "products = [\"t-shirt\", \"mug\", \"hat\", \"book\", \"keychain\"]\n",
    "\n",
    "inventory = {}\n",
    "\n",
    "for product in products:\n",
    "    n = int(input(\"How many \"+product+\" in inventory ?\"))\n",
    "    inventory[product]=n\n",
    "print(inventory)\n",
    "\n",
    "customer_orders = set()\n",
    "\n",
    "order = input(\"Choose 3 products you'd like to order and write them\")\n",
    "\n",
    "for product in products:\n",
    "    if product in order:\n",
    "        customer_orders.add(product)\n",
    "\n",
    "print(customer_orders)\n",
    "\n",
    "total_products_ordered = len(customer_orders)\n",
    "total_products_inventory = sum(list(inventory.values()))\n",
    "print(total_products_inventory)\n",
    "percentage_ordered = (total_products_ordered / total_products_inventory)*100\n",
    "order_status = (total_products_ordered, percentage_ordered)\n",
    "\n",
    "print(\"Order statistics : \\n Total Products Ordered:\",order_status[0], \"\\n Percentage of Products Ordered :\",order_status[1],\"\\n\")\n",
    "\n",
    "for product in customer_orders:\n",
    "    inventory[product] = inventory[product] - 1\n",
    "\n",
    "for product in products:\n",
    "    print(product, \": \", inventory[product])"
   ]
  },
  {
   "cell_type": "code",
   "execution_count": 4,
   "id": "9e5e9e73-9517-48b5-9b54-9d9151d8698e",
   "metadata": {},
   "outputs": [
    {
     "name": "stdin",
     "output_type": "stream",
     "text": [
      "How many t-shirt in inventory ? 4\n",
      "How many mug in inventory ? 8\n",
      "How many hat in inventory ? 5\n",
      "How many book in inventory ? 9\n",
      "How many keychain in inventory ? 2\n"
     ]
    },
    {
     "name": "stdout",
     "output_type": "stream",
     "text": [
      "{'t-shirt': 4, 'mug': 8, 'hat': 5, 'book': 9, 'keychain': 2}\n"
     ]
    },
    {
     "name": "stdin",
     "output_type": "stream",
     "text": [
      "Write the name of the product you'd like to order. keychain\n",
      "Would you like to order another product ? yes/no yes\n",
      "Write the name of the product you'd like to order. book\n",
      "Would you like to order another product ? yes/no yes\n",
      "Write the name of the product you'd like to order. mug\n",
      "Would you like to order another product ? yes/no no\n"
     ]
    },
    {
     "name": "stdout",
     "output_type": "stream",
     "text": [
      "{'keychain', 'mug', 'book'}\n"
     ]
    }
   ],
   "source": [
    "# 2.\n",
    "products = [\"t-shirt\", \"mug\", \"hat\", \"book\", \"keychain\"]\n",
    "\n",
    "inventory = {}\n",
    "\n",
    "for product in products:\n",
    "    n = int(input(\"How many \"+product+\" in inventory ?\"))\n",
    "    inventory[product]=n\n",
    "print(inventory)\n",
    "\n",
    "customer_orders = set()\n",
    "\n",
    "exit=False\n",
    "\n",
    "while not exit:\n",
    "    order = input(\"Write the name of the product you'd like to order.\")\n",
    "    customer_orders.add(order)\n",
    "    again = input(\"Would you like to order another product ? yes/no\")\n",
    "    if again == \"no\":\n",
    "        exit=True\n",
    "\n",
    "print(customer_orders)"
   ]
  },
  {
   "cell_type": "code",
   "execution_count": 5,
   "id": "a3ac1d69-f9c1-4419-87e3-85fecc4b815e",
   "metadata": {},
   "outputs": [
    {
     "name": "stdout",
     "output_type": "stream",
     "text": [
      "t-shirt :  4\n",
      "mug :  7\n",
      "hat :  5\n",
      "book :  8\n",
      "keychain :  1\n"
     ]
    }
   ],
   "source": [
    "# 3. \n",
    "for product in customer_orders:\n",
    "    inventory[product] = inventory[product] - 1\n",
    "\n",
    "for product in products:\n",
    "    print(product, \": \", inventory[product])"
   ]
  }
 ],
 "metadata": {
  "kernelspec": {
   "display_name": "Python 3 (ipykernel)",
   "language": "python",
   "name": "python3"
  },
  "language_info": {
   "codemirror_mode": {
    "name": "ipython",
    "version": 3
   },
   "file_extension": ".py",
   "mimetype": "text/x-python",
   "name": "python",
   "nbconvert_exporter": "python",
   "pygments_lexer": "ipython3",
   "version": "3.12.4"
  }
 },
 "nbformat": 4,
 "nbformat_minor": 5
}
